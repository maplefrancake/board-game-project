{
 "cells": [
  {
   "cell_type": "code",
   "execution_count": 6,
   "metadata": {},
   "outputs": [],
   "source": [
    "# Receiver Operating Characteristic Curve\n",
    "\n",
    "# Import dependencies\n",
    "import matplotlib.pyplot as plt\n",
    "import pandas as pd\n",
    "import sklearn\n",
    "from sklearn.metrics import roc_curve\n",
    "\n",
    "# Define true labels & predictions\n",
    "true = \n",
    "predictions = \n",
    "\n",
    "# Calculate the false positive rate, the true positive ratre, and the thresholds\n",
    "fpr, tpr, thresholds = roc_curve(<true_labels>, <predictions>)\n",
    "\n",
    "# Plot the ROC curve\n",
    "roc_plot = plt.plot(fpr, tpr)\n",
    "roc_plot = plt.plot([0, 1], [0, 1], linestyle='--') # Diagonal line for reference\n",
    "roc_plot = plt.xlabel('False Positive Rate')\n",
    "roc_plot = plt.ylabel('True Positive Rate')\n",
    "roc_plot = plt.title('Receiver Operating CHaracteristics (ROC) Curve')\n",
    "roc_plot = plt.show()"
   ]
  }
 ],
 "metadata": {
  "kernelspec": {
   "display_name": "PythonData",
   "language": "python",
   "name": "pythondata"
  },
  "language_info": {
   "codemirror_mode": {
    "name": "ipython",
    "version": 3
   },
   "file_extension": ".py",
   "mimetype": "text/x-python",
   "name": "python",
   "nbconvert_exporter": "python",
   "pygments_lexer": "ipython3",
   "version": "3.7.13"
  }
 },
 "nbformat": 4,
 "nbformat_minor": 2
}
